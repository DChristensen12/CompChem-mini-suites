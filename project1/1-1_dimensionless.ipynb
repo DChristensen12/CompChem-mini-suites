{
  "nbformat": 4,
  "nbformat_minor": 0,
  "metadata": {
    "colab": {
      "provenance": []
    },
    "kernelspec": {
      "name": "python3",
      "display_name": "Python 3"
    },
    "language_info": {
      "name": "python"
    }
  },
  "cells": [
    {
      "cell_type": "markdown",
      "source": [
        "## Part 1-1: Dimensionless Formulation of Harmonic Oscillator Hamiltonian"
      ],
      "metadata": {
        "id": "w3aIY6sXwSqS"
      }
    },
    {
      "cell_type": "markdown",
      "source": [
        "### Choosing natural scales for the 1‑D harmonic oscillator  \n",
        "\n",
        "We can start from the Hamiltonian below\n",
        "\n",
        "$$\n",
        "\\hat H \\;=\\; -\\frac{\\hbar^{2}}{2m}\\,\\frac{d^{2}}{dx^{2}}\\;+\\;\\frac12\\,k\\,x^{2},\n",
        "\\qquad\\text{with}\\quad k = m\\omega^{2},\\; \\omega=\\sqrt{k/m}\n",
        "$$\n",
        "\n",
        "---\n",
        "\n",
        "#### 1.  A dimensionless position  \n",
        "\n",
        "First, we want to pick the characteristic **length**\n",
        "\n",
        "$$\n",
        "\\boxed{\\;\\ell \\;=\\;\\sqrt{\\frac{\\hbar}{m\\omega}}\\;}\n",
        "$$  \n",
        "and we define the dimension‑less coordinate\n",
        "\n",
        "$$\n",
        "x^{*}\\;=\\;\\frac{x}{\\ell}\\quad\\Longrightarrow\\quad\n",
        "\\frac{d}{dx}\\;=\\;\\frac{1}{\\ell}\\frac{d}{dx^{*}},\\;\n",
        "\\frac{d^{2}}{dx^{2}}\\;=\\;\\frac{1}{\\ell^{2}}\\frac{d^{2}}{dx^{*2}}.\n",
        "$$\n",
        "\n",
        "---\n",
        "\n",
        "#### 2.  Rewriting the kinetic term , we get that\n",
        "\n",
        "$$\n",
        "-\\frac{\\hbar^{2}}{2m}\\,\\frac{d^{2}}{dx^{2}}\n",
        "\\;=\\;\n",
        "-\\frac{\\hbar^{2}}{2m}\\,\\frac{1}{\\ell^{2}}\\frac{d^{2}}{dx^{*2}}\n",
        "\\;=\\;\n",
        "-\\frac{\\hbar\\omega}{2}\\,\\frac{d^{2}}{dx^{*2}}.\n",
        "$$\n",
        "\n",
        "*(Used $\\ell^{2}=\\hbar/(m\\omega)$.)*\n",
        "\n",
        "---\n",
        "\n",
        "#### 3.  Now, rewriting the potential term  \n",
        "\n",
        "$$\n",
        "\\frac12\\,k\\,x^{2}\n",
        "\\;=\\;\n",
        "\\frac12\\,m\\omega^{2}\\,\\ell^{2}\\,x^{*2}\n",
        "\\;=\\;\n",
        "\\frac12\\,m\\omega^{2}\\,\\frac{\\hbar}{m\\omega}\\,x^{*2}\n",
        "\\;=\\;\n",
        "\\frac{\\hbar\\omega}{2}\\;x^{*2}.\n",
        "$$\n",
        "\n",
        "---\n",
        "\n",
        "#### 4.  Collecting terms and choose an energy scale  \n",
        "\n",
        "Both pieces carry the **same prefactor**\n",
        "\n",
        "$$\n",
        "\\frac{\\hbar\\omega}{2}.\n",
        "$$\n",
        "\n",
        "Taking this as the unit of energy\n",
        "\n",
        "$$\n",
        "\\boxed{\\;\\varepsilon \\;=\\;\\frac{\\hbar\\omega}{2}\\;}\n",
        "$$\n",
        "\n",
        "and defining the dimension‑less Hamiltonian $\\hat H^{*} = \\hat H/\\varepsilon$:\n",
        "\n",
        "$$\n",
        "\\boxed{\\;\n",
        "\\hat H^{*}\n",
        "\\;=\\;\n",
        "-\\frac{d^{2}}{dx^{*2}}\\;+\\;x^{*2}\\;\n",
        "}.\n",
        "$$\n",
        "\n",
        "---\n",
        "In summary, in the scaled units:\n",
        "\n",
        "* distances are measured in multiples of $\\ell=\\sqrt{\\hbar/(m\\omega)}$;\n",
        "* energies are measured in multiples of $\\varepsilon=\\hbar\\omega/2$.\n",
        "\n",
        "With these natural units the harmonic‑oscillator Hamiltonian is free of physical constants and takes the fully dimensionless form  \n",
        "\n",
        "$$\n",
        "\\hat H^{*} = -\\dfrac{d^{2}}{dx^{*2}} + x^{*2}.\n",
        "$$"
      ],
      "metadata": {
        "id": "EAjMmTxiwTSh"
      }
    }
  ]
}
