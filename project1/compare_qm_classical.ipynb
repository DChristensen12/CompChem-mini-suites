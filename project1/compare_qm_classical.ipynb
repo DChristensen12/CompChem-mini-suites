{
  "nbformat": 4,
  "nbformat_minor": 0,
  "metadata": {
    "colab": {
      "provenance": []
    },
    "kernelspec": {
      "name": "python3",
      "display_name": "Python 3"
    },
    "language_info": {
      "name": "python"
    }
  },
  "cells": [
    {
      "cell_type": "markdown",
      "source": [
        "### Quantum vs. Classical: Energy and Heat Capacity\n",
        "\n",
        "| Temperature $T$ | $\\langle E \\rangle_{\\text{Quantum}}$ | $\\langle E \\rangle_{\\text{Classical}}$ | $C_V^{\\text{Quantum}}$ (trend) | $C_V^{\\text{Classical}}$ |\n",
        "|-----------------|--------------------------------------|----------------------------------------|-------------------------------|---------------------------|\n",
        "| 0.5             | $\\approx 1.00$                       | $0.264 \\pm 0.001$                       | $\\approx 0$                   | $0.313$                   |\n",
        "| 1.0             | $\\approx 1.6{-}1.8$                  | $0.490 \\pm 0.002$                       | $< 1$                         | $0.232$                   |\n",
        "| 2.0             | $\\approx 1.95{-}2.2$                 | $0.923 \\pm 0.003$                       | $\\approx 1$                   | $0.221$                   |\n",
        "| 4.0             | $\\approx 2.0$                        | $1.864 \\pm 0.006$                       | $\\approx 1$                   | $0.196$                   |\n",
        "\n",
        "### Interpretation of Results\n",
        "\n",
        "- At low $T$, the classical average energy is significantly **below** the quantum ground state energy $E_0 \\approx 1$.\n",
        "- The classical model **overestimates** heat capacity at low $T$, violating the third law of thermodynamics.\n",
        "- The two models only **converge in the high-temperature limit**, consistent with the **equipartition theorem**.\n"
      ],
      "metadata": {
        "id": "p1LvhNLexuyJ"
      }
    }
  ]
}
